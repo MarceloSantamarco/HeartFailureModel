{
 "cells": [
  {
   "cell_type": "code",
   "execution_count": 369,
   "metadata": {},
   "outputs": [],
   "source": [
    "import pandas as pd\n",
    "import numpy as np\n",
    "import matplotlib.pyplot as plt\n",
    "import warnings\n",
    "import statsmodels.api as sm\n",
    "from sklearn.metrics import roc_curve, auc\n",
    "from sklearn.feature_selection import SelectKBest, f_classif\n",
    "from sklearn.metrics import accuracy_score\n",
    "\n",
    "warnings.filterwarnings('ignore')"
   ]
  },
  {
   "cell_type": "code",
   "execution_count": 370,
   "metadata": {},
   "outputs": [],
   "source": [
    "df = pd.read_csv('./datasets/heart_failure_clinical_records_dataset.csv')"
   ]
  },
  {
   "cell_type": "code",
   "execution_count": 371,
   "metadata": {},
   "outputs": [
    {
     "data": {
      "text/html": [
       "<div>\n",
       "<style scoped>\n",
       "    .dataframe tbody tr th:only-of-type {\n",
       "        vertical-align: middle;\n",
       "    }\n",
       "\n",
       "    .dataframe tbody tr th {\n",
       "        vertical-align: top;\n",
       "    }\n",
       "\n",
       "    .dataframe thead th {\n",
       "        text-align: right;\n",
       "    }\n",
       "</style>\n",
       "<table border=\"1\" class=\"dataframe\">\n",
       "  <thead>\n",
       "    <tr style=\"text-align: right;\">\n",
       "      <th></th>\n",
       "      <th>age</th>\n",
       "      <th>anaemia</th>\n",
       "      <th>creatinine_phosphokinase</th>\n",
       "      <th>diabetes</th>\n",
       "      <th>ejection_fraction</th>\n",
       "      <th>high_blood_pressure</th>\n",
       "      <th>platelets</th>\n",
       "      <th>serum_creatinine</th>\n",
       "      <th>serum_sodium</th>\n",
       "      <th>sex</th>\n",
       "      <th>smoking</th>\n",
       "      <th>time</th>\n",
       "      <th>DEATH_EVENT</th>\n",
       "    </tr>\n",
       "  </thead>\n",
       "  <tbody>\n",
       "    <tr>\n",
       "      <th>0</th>\n",
       "      <td>75.0</td>\n",
       "      <td>0</td>\n",
       "      <td>582</td>\n",
       "      <td>0</td>\n",
       "      <td>20</td>\n",
       "      <td>1</td>\n",
       "      <td>265000.00</td>\n",
       "      <td>1.9</td>\n",
       "      <td>130</td>\n",
       "      <td>1</td>\n",
       "      <td>0</td>\n",
       "      <td>4</td>\n",
       "      <td>1</td>\n",
       "    </tr>\n",
       "    <tr>\n",
       "      <th>1</th>\n",
       "      <td>55.0</td>\n",
       "      <td>0</td>\n",
       "      <td>7861</td>\n",
       "      <td>0</td>\n",
       "      <td>38</td>\n",
       "      <td>0</td>\n",
       "      <td>263358.03</td>\n",
       "      <td>1.1</td>\n",
       "      <td>136</td>\n",
       "      <td>1</td>\n",
       "      <td>0</td>\n",
       "      <td>6</td>\n",
       "      <td>1</td>\n",
       "    </tr>\n",
       "    <tr>\n",
       "      <th>2</th>\n",
       "      <td>65.0</td>\n",
       "      <td>0</td>\n",
       "      <td>146</td>\n",
       "      <td>0</td>\n",
       "      <td>20</td>\n",
       "      <td>0</td>\n",
       "      <td>162000.00</td>\n",
       "      <td>1.3</td>\n",
       "      <td>129</td>\n",
       "      <td>1</td>\n",
       "      <td>1</td>\n",
       "      <td>7</td>\n",
       "      <td>1</td>\n",
       "    </tr>\n",
       "    <tr>\n",
       "      <th>3</th>\n",
       "      <td>50.0</td>\n",
       "      <td>1</td>\n",
       "      <td>111</td>\n",
       "      <td>0</td>\n",
       "      <td>20</td>\n",
       "      <td>0</td>\n",
       "      <td>210000.00</td>\n",
       "      <td>1.9</td>\n",
       "      <td>137</td>\n",
       "      <td>1</td>\n",
       "      <td>0</td>\n",
       "      <td>7</td>\n",
       "      <td>1</td>\n",
       "    </tr>\n",
       "    <tr>\n",
       "      <th>4</th>\n",
       "      <td>65.0</td>\n",
       "      <td>1</td>\n",
       "      <td>160</td>\n",
       "      <td>1</td>\n",
       "      <td>20</td>\n",
       "      <td>0</td>\n",
       "      <td>327000.00</td>\n",
       "      <td>2.7</td>\n",
       "      <td>116</td>\n",
       "      <td>0</td>\n",
       "      <td>0</td>\n",
       "      <td>8</td>\n",
       "      <td>1</td>\n",
       "    </tr>\n",
       "  </tbody>\n",
       "</table>\n",
       "</div>"
      ],
      "text/plain": [
       "    age  anaemia  creatinine_phosphokinase  diabetes  ejection_fraction  \\\n",
       "0  75.0        0                       582         0                 20   \n",
       "1  55.0        0                      7861         0                 38   \n",
       "2  65.0        0                       146         0                 20   \n",
       "3  50.0        1                       111         0                 20   \n",
       "4  65.0        1                       160         1                 20   \n",
       "\n",
       "   high_blood_pressure  platelets  serum_creatinine  serum_sodium  sex  \\\n",
       "0                    1  265000.00               1.9           130    1   \n",
       "1                    0  263358.03               1.1           136    1   \n",
       "2                    0  162000.00               1.3           129    1   \n",
       "3                    0  210000.00               1.9           137    1   \n",
       "4                    0  327000.00               2.7           116    0   \n",
       "\n",
       "   smoking  time  DEATH_EVENT  \n",
       "0        0     4            1  \n",
       "1        0     6            1  \n",
       "2        1     7            1  \n",
       "3        0     7            1  \n",
       "4        0     8            1  "
      ]
     },
     "execution_count": 371,
     "metadata": {},
     "output_type": "execute_result"
    }
   ],
   "source": [
    "df.head()"
   ]
  },
  {
   "cell_type": "code",
   "execution_count": 372,
   "metadata": {},
   "outputs": [],
   "source": [
    "df['platelets'] = pd.cut(df['platelets'],\n",
    "                        bins=6,\n",
    "                        labels=[1,2,3,4,5,6])"
   ]
  },
  {
   "cell_type": "code",
   "execution_count": 373,
   "metadata": {},
   "outputs": [],
   "source": [
    "df['creatinine_phosphokinase'] = pd.cut(df['creatinine_phosphokinase'],\n",
    "                        bins=6,\n",
    "                        labels=[1,2,3,4,5,6])"
   ]
  },
  {
   "cell_type": "code",
   "execution_count": 374,
   "metadata": {},
   "outputs": [
    {
     "name": "stdout",
     "output_type": "stream",
     "text": [
      "2    183\n",
      "3     66\n",
      "1     36\n",
      "4     11\n",
      "6      2\n",
      "5      1\n",
      "Name: platelets, dtype: int64\n",
      "1    270\n",
      "2     19\n",
      "4      4\n",
      "3      3\n",
      "6      2\n",
      "5      1\n",
      "Name: creatinine_phosphokinase, dtype: int64\n"
     ]
    }
   ],
   "source": [
    "for i in ['platelets','creatinine_phosphokinase']:\n",
    "    print(df[i].value_counts())"
   ]
  },
  {
   "cell_type": "code",
   "execution_count": 375,
   "metadata": {},
   "outputs": [],
   "source": [
    "from sklearn.model_selection import train_test_split\n",
    "\n",
    "X = df.drop('DEATH_EVENT', axis=1)\n",
    "y = df['DEATH_EVENT']\n",
    "\n",
    "X_train, X_test, y_train, y_test = train_test_split(\n",
    "    X, y, test_size=0.3, random_state=42)"
   ]
  },
  {
   "cell_type": "code",
   "execution_count": 376,
   "metadata": {
    "scrolled": true
   },
   "outputs": [
    {
     "data": {
      "text/html": [
       "<style  type=\"text/css\" >\n",
       "#T_9c57c6b0_29d8_11eb_874f_e7f32333ac44row0_col0,#T_9c57c6b0_29d8_11eb_874f_e7f32333ac44row1_col1,#T_9c57c6b0_29d8_11eb_874f_e7f32333ac44row2_col2,#T_9c57c6b0_29d8_11eb_874f_e7f32333ac44row3_col3,#T_9c57c6b0_29d8_11eb_874f_e7f32333ac44row4_col4,#T_9c57c6b0_29d8_11eb_874f_e7f32333ac44row5_col5,#T_9c57c6b0_29d8_11eb_874f_e7f32333ac44row6_col6,#T_9c57c6b0_29d8_11eb_874f_e7f32333ac44row7_col7,#T_9c57c6b0_29d8_11eb_874f_e7f32333ac44row8_col8,#T_9c57c6b0_29d8_11eb_874f_e7f32333ac44row9_col9{\n",
       "            background-color:  #b40426;\n",
       "            color:  #f1f1f1;\n",
       "        }#T_9c57c6b0_29d8_11eb_874f_e7f32333ac44row0_col1,#T_9c57c6b0_29d8_11eb_874f_e7f32333ac44row1_col3,#T_9c57c6b0_29d8_11eb_874f_e7f32333ac44row4_col1{\n",
       "            background-color:  #81a4fb;\n",
       "            color:  #000000;\n",
       "        }#T_9c57c6b0_29d8_11eb_874f_e7f32333ac44row0_col2{\n",
       "            background-color:  #5a78e4;\n",
       "            color:  #000000;\n",
       "        }#T_9c57c6b0_29d8_11eb_874f_e7f32333ac44row0_col3,#T_9c57c6b0_29d8_11eb_874f_e7f32333ac44row4_col5{\n",
       "            background-color:  #799cf8;\n",
       "            color:  #000000;\n",
       "        }#T_9c57c6b0_29d8_11eb_874f_e7f32333ac44row0_col4{\n",
       "            background-color:  #92b4fe;\n",
       "            color:  #000000;\n",
       "        }#T_9c57c6b0_29d8_11eb_874f_e7f32333ac44row0_col5{\n",
       "            background-color:  #d4dbe6;\n",
       "            color:  #000000;\n",
       "        }#T_9c57c6b0_29d8_11eb_874f_e7f32333ac44row0_col6{\n",
       "            background-color:  #779af7;\n",
       "            color:  #000000;\n",
       "        }#T_9c57c6b0_29d8_11eb_874f_e7f32333ac44row0_col7{\n",
       "            background-color:  #6687ed;\n",
       "            color:  #000000;\n",
       "        }#T_9c57c6b0_29d8_11eb_874f_e7f32333ac44row0_col8,#T_9c57c6b0_29d8_11eb_874f_e7f32333ac44row1_col2,#T_9c57c6b0_29d8_11eb_874f_e7f32333ac44row5_col1{\n",
       "            background-color:  #5d7ce6;\n",
       "            color:  #000000;\n",
       "        }#T_9c57c6b0_29d8_11eb_874f_e7f32333ac44row0_col9,#T_9c57c6b0_29d8_11eb_874f_e7f32333ac44row2_col8{\n",
       "            background-color:  #3c4ec2;\n",
       "            color:  #f1f1f1;\n",
       "        }#T_9c57c6b0_29d8_11eb_874f_e7f32333ac44row1_col0{\n",
       "            background-color:  #86a9fc;\n",
       "            color:  #000000;\n",
       "        }#T_9c57c6b0_29d8_11eb_874f_e7f32333ac44row1_col4{\n",
       "            background-color:  #89acfd;\n",
       "            color:  #000000;\n",
       "        }#T_9c57c6b0_29d8_11eb_874f_e7f32333ac44row1_col5{\n",
       "            background-color:  #85a8fc;\n",
       "            color:  #000000;\n",
       "        }#T_9c57c6b0_29d8_11eb_874f_e7f32333ac44row1_col6{\n",
       "            background-color:  #a7c5fe;\n",
       "            color:  #000000;\n",
       "        }#T_9c57c6b0_29d8_11eb_874f_e7f32333ac44row1_col7{\n",
       "            background-color:  #3f53c6;\n",
       "            color:  #f1f1f1;\n",
       "        }#T_9c57c6b0_29d8_11eb_874f_e7f32333ac44row1_col8,#T_9c57c6b0_29d8_11eb_874f_e7f32333ac44row2_col7,#T_9c57c6b0_29d8_11eb_874f_e7f32333ac44row4_col9,#T_9c57c6b0_29d8_11eb_874f_e7f32333ac44row5_col3,#T_9c57c6b0_29d8_11eb_874f_e7f32333ac44row5_col6,#T_9c57c6b0_29d8_11eb_874f_e7f32333ac44row6_col5,#T_9c57c6b0_29d8_11eb_874f_e7f32333ac44row7_col2,#T_9c57c6b0_29d8_11eb_874f_e7f32333ac44row8_col1,#T_9c57c6b0_29d8_11eb_874f_e7f32333ac44row8_col2,#T_9c57c6b0_29d8_11eb_874f_e7f32333ac44row9_col0,#T_9c57c6b0_29d8_11eb_874f_e7f32333ac44row9_col4{\n",
       "            background-color:  #3b4cc0;\n",
       "            color:  #f1f1f1;\n",
       "        }#T_9c57c6b0_29d8_11eb_874f_e7f32333ac44row1_col9{\n",
       "            background-color:  #516ddb;\n",
       "            color:  #000000;\n",
       "        }#T_9c57c6b0_29d8_11eb_874f_e7f32333ac44row2_col0,#T_9c57c6b0_29d8_11eb_874f_e7f32333ac44row7_col4,#T_9c57c6b0_29d8_11eb_874f_e7f32333ac44row8_col3{\n",
       "            background-color:  #6384eb;\n",
       "            color:  #000000;\n",
       "        }#T_9c57c6b0_29d8_11eb_874f_e7f32333ac44row2_col1,#T_9c57c6b0_29d8_11eb_874f_e7f32333ac44row8_col4{\n",
       "            background-color:  #5f7fe8;\n",
       "            color:  #000000;\n",
       "        }#T_9c57c6b0_29d8_11eb_874f_e7f32333ac44row2_col3,#T_9c57c6b0_29d8_11eb_874f_e7f32333ac44row3_col1{\n",
       "            background-color:  #7699f6;\n",
       "            color:  #000000;\n",
       "        }#T_9c57c6b0_29d8_11eb_874f_e7f32333ac44row2_col4,#T_9c57c6b0_29d8_11eb_874f_e7f32333ac44row5_col7,#T_9c57c6b0_29d8_11eb_874f_e7f32333ac44row6_col8{\n",
       "            background-color:  #6b8df0;\n",
       "            color:  #000000;\n",
       "        }#T_9c57c6b0_29d8_11eb_874f_e7f32333ac44row2_col5{\n",
       "            background-color:  #8caffe;\n",
       "            color:  #000000;\n",
       "        }#T_9c57c6b0_29d8_11eb_874f_e7f32333ac44row2_col6,#T_9c57c6b0_29d8_11eb_874f_e7f32333ac44row2_col9{\n",
       "            background-color:  #7ea1fa;\n",
       "            color:  #000000;\n",
       "        }#T_9c57c6b0_29d8_11eb_874f_e7f32333ac44row3_col0,#T_9c57c6b0_29d8_11eb_874f_e7f32333ac44row9_col2{\n",
       "            background-color:  #7396f5;\n",
       "            color:  #000000;\n",
       "        }#T_9c57c6b0_29d8_11eb_874f_e7f32333ac44row3_col2{\n",
       "            background-color:  #688aef;\n",
       "            color:  #000000;\n",
       "        }#T_9c57c6b0_29d8_11eb_874f_e7f32333ac44row3_col4{\n",
       "            background-color:  #80a3fa;\n",
       "            color:  #000000;\n",
       "        }#T_9c57c6b0_29d8_11eb_874f_e7f32333ac44row3_col5,#T_9c57c6b0_29d8_11eb_874f_e7f32333ac44row4_col7{\n",
       "            background-color:  #5875e1;\n",
       "            color:  #000000;\n",
       "        }#T_9c57c6b0_29d8_11eb_874f_e7f32333ac44row3_col6{\n",
       "            background-color:  #bfd3f6;\n",
       "            color:  #000000;\n",
       "        }#T_9c57c6b0_29d8_11eb_874f_e7f32333ac44row3_col7,#T_9c57c6b0_29d8_11eb_874f_e7f32333ac44row9_col1{\n",
       "            background-color:  #485fd1;\n",
       "            color:  #f1f1f1;\n",
       "        }#T_9c57c6b0_29d8_11eb_874f_e7f32333ac44row3_col8,#T_9c57c6b0_29d8_11eb_874f_e7f32333ac44row4_col8,#T_9c57c6b0_29d8_11eb_874f_e7f32333ac44row7_col3{\n",
       "            background-color:  #5673e0;\n",
       "            color:  #000000;\n",
       "        }#T_9c57c6b0_29d8_11eb_874f_e7f32333ac44row3_col9{\n",
       "            background-color:  #8badfd;\n",
       "            color:  #000000;\n",
       "        }#T_9c57c6b0_29d8_11eb_874f_e7f32333ac44row4_col0{\n",
       "            background-color:  #8fb1fe;\n",
       "            color:  #000000;\n",
       "        }#T_9c57c6b0_29d8_11eb_874f_e7f32333ac44row4_col2,#T_9c57c6b0_29d8_11eb_874f_e7f32333ac44row5_col2{\n",
       "            background-color:  #6180e9;\n",
       "            color:  #000000;\n",
       "        }#T_9c57c6b0_29d8_11eb_874f_e7f32333ac44row4_col3{\n",
       "            background-color:  #82a6fb;\n",
       "            color:  #000000;\n",
       "        }#T_9c57c6b0_29d8_11eb_874f_e7f32333ac44row4_col6{\n",
       "            background-color:  #9abbff;\n",
       "            color:  #000000;\n",
       "        }#T_9c57c6b0_29d8_11eb_874f_e7f32333ac44row5_col0{\n",
       "            background-color:  #c0d4f5;\n",
       "            color:  #000000;\n",
       "        }#T_9c57c6b0_29d8_11eb_874f_e7f32333ac44row5_col4{\n",
       "            background-color:  #5977e3;\n",
       "            color:  #000000;\n",
       "        }#T_9c57c6b0_29d8_11eb_874f_e7f32333ac44row5_col8,#T_9c57c6b0_29d8_11eb_874f_e7f32333ac44row8_col0{\n",
       "            background-color:  #6485ec;\n",
       "            color:  #000000;\n",
       "        }#T_9c57c6b0_29d8_11eb_874f_e7f32333ac44row5_col9{\n",
       "            background-color:  #4b64d5;\n",
       "            color:  #f1f1f1;\n",
       "        }#T_9c57c6b0_29d8_11eb_874f_e7f32333ac44row6_col0{\n",
       "            background-color:  #5572df;\n",
       "            color:  #000000;\n",
       "        }#T_9c57c6b0_29d8_11eb_874f_e7f32333ac44row6_col1,#T_9c57c6b0_29d8_11eb_874f_e7f32333ac44row6_col9,#T_9c57c6b0_29d8_11eb_874f_e7f32333ac44row8_col9{\n",
       "            background-color:  #84a7fc;\n",
       "            color:  #000000;\n",
       "        }#T_9c57c6b0_29d8_11eb_874f_e7f32333ac44row6_col2{\n",
       "            background-color:  #536edd;\n",
       "            color:  #000000;\n",
       "        }#T_9c57c6b0_29d8_11eb_874f_e7f32333ac44row6_col3{\n",
       "            background-color:  #aac7fd;\n",
       "            color:  #000000;\n",
       "        }#T_9c57c6b0_29d8_11eb_874f_e7f32333ac44row6_col4{\n",
       "            background-color:  #7da0f9;\n",
       "            color:  #000000;\n",
       "        }#T_9c57c6b0_29d8_11eb_874f_e7f32333ac44row6_col7{\n",
       "            background-color:  #4358cb;\n",
       "            color:  #f1f1f1;\n",
       "        }#T_9c57c6b0_29d8_11eb_874f_e7f32333ac44row7_col0,#T_9c57c6b0_29d8_11eb_874f_e7f32333ac44row7_col6{\n",
       "            background-color:  #6f92f3;\n",
       "            color:  #000000;\n",
       "        }#T_9c57c6b0_29d8_11eb_874f_e7f32333ac44row7_col1{\n",
       "            background-color:  #4257c9;\n",
       "            color:  #f1f1f1;\n",
       "        }#T_9c57c6b0_29d8_11eb_874f_e7f32333ac44row7_col5{\n",
       "            background-color:  #94b6ff;\n",
       "            color:  #000000;\n",
       "        }#T_9c57c6b0_29d8_11eb_874f_e7f32333ac44row7_col8{\n",
       "            background-color:  #e2dad5;\n",
       "            color:  #000000;\n",
       "        }#T_9c57c6b0_29d8_11eb_874f_e7f32333ac44row7_col9{\n",
       "            background-color:  #7597f6;\n",
       "            color:  #000000;\n",
       "        }#T_9c57c6b0_29d8_11eb_874f_e7f32333ac44row8_col5,#T_9c57c6b0_29d8_11eb_874f_e7f32333ac44row9_col3{\n",
       "            background-color:  #8db0fe;\n",
       "            color:  #000000;\n",
       "        }#T_9c57c6b0_29d8_11eb_874f_e7f32333ac44row8_col6{\n",
       "            background-color:  #93b5fe;\n",
       "            color:  #000000;\n",
       "        }#T_9c57c6b0_29d8_11eb_874f_e7f32333ac44row8_col7{\n",
       "            background-color:  #e1dad6;\n",
       "            color:  #000000;\n",
       "        }#T_9c57c6b0_29d8_11eb_874f_e7f32333ac44row9_col5{\n",
       "            background-color:  #6c8ff1;\n",
       "            color:  #000000;\n",
       "        }#T_9c57c6b0_29d8_11eb_874f_e7f32333ac44row9_col6{\n",
       "            background-color:  #a1c0ff;\n",
       "            color:  #000000;\n",
       "        }#T_9c57c6b0_29d8_11eb_874f_e7f32333ac44row9_col7{\n",
       "            background-color:  #6a8bef;\n",
       "            color:  #000000;\n",
       "        }#T_9c57c6b0_29d8_11eb_874f_e7f32333ac44row9_col8{\n",
       "            background-color:  #7b9ff9;\n",
       "            color:  #000000;\n",
       "        }</style><table id=\"T_9c57c6b0_29d8_11eb_874f_e7f32333ac44\" ><thead>    <tr>        <th class=\"blank level0\" ></th>        <th class=\"col_heading level0 col0\" >age</th>        <th class=\"col_heading level0 col1\" >anaemia</th>        <th class=\"col_heading level0 col2\" >diabetes</th>        <th class=\"col_heading level0 col3\" >ejection_fraction</th>        <th class=\"col_heading level0 col4\" >high_blood_pressure</th>        <th class=\"col_heading level0 col5\" >serum_creatinine</th>        <th class=\"col_heading level0 col6\" >serum_sodium</th>        <th class=\"col_heading level0 col7\" >sex</th>        <th class=\"col_heading level0 col8\" >smoking</th>        <th class=\"col_heading level0 col9\" >time</th>    </tr></thead><tbody>\n",
       "                <tr>\n",
       "                        <th id=\"T_9c57c6b0_29d8_11eb_874f_e7f32333ac44level0_row0\" class=\"row_heading level0 row0\" >age</th>\n",
       "                        <td id=\"T_9c57c6b0_29d8_11eb_874f_e7f32333ac44row0_col0\" class=\"data row0 col0\" >1.000000</td>\n",
       "                        <td id=\"T_9c57c6b0_29d8_11eb_874f_e7f32333ac44row0_col1\" class=\"data row0 col1\" >0.073879</td>\n",
       "                        <td id=\"T_9c57c6b0_29d8_11eb_874f_e7f32333ac44row0_col2\" class=\"data row0 col2\" >-0.050348</td>\n",
       "                        <td id=\"T_9c57c6b0_29d8_11eb_874f_e7f32333ac44row0_col3\" class=\"data row0 col3\" >0.006848</td>\n",
       "                        <td id=\"T_9c57c6b0_29d8_11eb_874f_e7f32333ac44row0_col4\" class=\"data row0 col4\" >0.102529</td>\n",
       "                        <td id=\"T_9c57c6b0_29d8_11eb_874f_e7f32333ac44row0_col5\" class=\"data row0 col5\" >0.273773</td>\n",
       "                        <td id=\"T_9c57c6b0_29d8_11eb_874f_e7f32333ac44row0_col6\" class=\"data row0 col6\" >-0.102785</td>\n",
       "                        <td id=\"T_9c57c6b0_29d8_11eb_874f_e7f32333ac44row0_col7\" class=\"data row0 col7\" >-0.007825</td>\n",
       "                        <td id=\"T_9c57c6b0_29d8_11eb_874f_e7f32333ac44row0_col8\" class=\"data row0 col8\" >-0.046499</td>\n",
       "                        <td id=\"T_9c57c6b0_29d8_11eb_874f_e7f32333ac44row0_col9\" class=\"data row0 col9\" >-0.207589</td>\n",
       "            </tr>\n",
       "            <tr>\n",
       "                        <th id=\"T_9c57c6b0_29d8_11eb_874f_e7f32333ac44level0_row1\" class=\"row_heading level0 row1\" >anaemia</th>\n",
       "                        <td id=\"T_9c57c6b0_29d8_11eb_874f_e7f32333ac44row1_col0\" class=\"data row1 col0\" >0.073879</td>\n",
       "                        <td id=\"T_9c57c6b0_29d8_11eb_874f_e7f32333ac44row1_col1\" class=\"data row1 col1\" >1.000000</td>\n",
       "                        <td id=\"T_9c57c6b0_29d8_11eb_874f_e7f32333ac44row1_col2\" class=\"data row1 col2\" >-0.038569</td>\n",
       "                        <td id=\"T_9c57c6b0_29d8_11eb_874f_e7f32333ac44row1_col3\" class=\"data row1 col3\" >0.038665</td>\n",
       "                        <td id=\"T_9c57c6b0_29d8_11eb_874f_e7f32333ac44row1_col4\" class=\"data row1 col4\" >0.077857</td>\n",
       "                        <td id=\"T_9c57c6b0_29d8_11eb_874f_e7f32333ac44row1_col5\" class=\"data row1 col5\" >-0.050955</td>\n",
       "                        <td id=\"T_9c57c6b0_29d8_11eb_874f_e7f32333ac44row1_col6\" class=\"data row1 col6\" >0.083587</td>\n",
       "                        <td id=\"T_9c57c6b0_29d8_11eb_874f_e7f32333ac44row1_col7\" class=\"data row1 col7\" >-0.152261</td>\n",
       "                        <td id=\"T_9c57c6b0_29d8_11eb_874f_e7f32333ac44row1_col8\" class=\"data row1 col8\" >-0.180064</td>\n",
       "                        <td id=\"T_9c57c6b0_29d8_11eb_874f_e7f32333ac44row1_col9\" class=\"data row1 col9\" >-0.126263</td>\n",
       "            </tr>\n",
       "            <tr>\n",
       "                        <th id=\"T_9c57c6b0_29d8_11eb_874f_e7f32333ac44level0_row2\" class=\"row_heading level0 row2\" >diabetes</th>\n",
       "                        <td id=\"T_9c57c6b0_29d8_11eb_874f_e7f32333ac44row2_col0\" class=\"data row2 col0\" >-0.050348</td>\n",
       "                        <td id=\"T_9c57c6b0_29d8_11eb_874f_e7f32333ac44row2_col1\" class=\"data row2 col1\" >-0.038569</td>\n",
       "                        <td id=\"T_9c57c6b0_29d8_11eb_874f_e7f32333ac44row2_col2\" class=\"data row2 col2\" >1.000000</td>\n",
       "                        <td id=\"T_9c57c6b0_29d8_11eb_874f_e7f32333ac44row2_col3\" class=\"data row2 col3\" >0.000082</td>\n",
       "                        <td id=\"T_9c57c6b0_29d8_11eb_874f_e7f32333ac44row2_col4\" class=\"data row2 col4\" >-0.028372</td>\n",
       "                        <td id=\"T_9c57c6b0_29d8_11eb_874f_e7f32333ac44row2_col5\" class=\"data row2 col5\" >-0.025667</td>\n",
       "                        <td id=\"T_9c57c6b0_29d8_11eb_874f_e7f32333ac44row2_col6\" class=\"data row2 col6\" >-0.079295</td>\n",
       "                        <td id=\"T_9c57c6b0_29d8_11eb_874f_e7f32333ac44row2_col7\" class=\"data row2 col7\" >-0.170709</td>\n",
       "                        <td id=\"T_9c57c6b0_29d8_11eb_874f_e7f32333ac44row2_col8\" class=\"data row2 col8\" >-0.170885</td>\n",
       "                        <td id=\"T_9c57c6b0_29d8_11eb_874f_e7f32333ac44row2_col9\" class=\"data row2 col9\" >0.037524</td>\n",
       "            </tr>\n",
       "            <tr>\n",
       "                        <th id=\"T_9c57c6b0_29d8_11eb_874f_e7f32333ac44level0_row3\" class=\"row_heading level0 row3\" >ejection_fraction</th>\n",
       "                        <td id=\"T_9c57c6b0_29d8_11eb_874f_e7f32333ac44row3_col0\" class=\"data row3 col0\" >0.006848</td>\n",
       "                        <td id=\"T_9c57c6b0_29d8_11eb_874f_e7f32333ac44row3_col1\" class=\"data row3 col1\" >0.038665</td>\n",
       "                        <td id=\"T_9c57c6b0_29d8_11eb_874f_e7f32333ac44row3_col2\" class=\"data row3 col2\" >0.000082</td>\n",
       "                        <td id=\"T_9c57c6b0_29d8_11eb_874f_e7f32333ac44row3_col3\" class=\"data row3 col3\" >1.000000</td>\n",
       "                        <td id=\"T_9c57c6b0_29d8_11eb_874f_e7f32333ac44row3_col4\" class=\"data row3 col4\" >0.043425</td>\n",
       "                        <td id=\"T_9c57c6b0_29d8_11eb_874f_e7f32333ac44row3_col5\" class=\"data row3 col5\" >-0.229515</td>\n",
       "                        <td id=\"T_9c57c6b0_29d8_11eb_874f_e7f32333ac44row3_col6\" class=\"data row3 col6\" >0.179198</td>\n",
       "                        <td id=\"T_9c57c6b0_29d8_11eb_874f_e7f32333ac44row3_col7\" class=\"data row3 col7\" >-0.117482</td>\n",
       "                        <td id=\"T_9c57c6b0_29d8_11eb_874f_e7f32333ac44row3_col8\" class=\"data row3 col8\" >-0.070408</td>\n",
       "                        <td id=\"T_9c57c6b0_29d8_11eb_874f_e7f32333ac44row3_col9\" class=\"data row3 col9\" >0.078472</td>\n",
       "            </tr>\n",
       "            <tr>\n",
       "                        <th id=\"T_9c57c6b0_29d8_11eb_874f_e7f32333ac44level0_row4\" class=\"row_heading level0 row4\" >high_blood_pressure</th>\n",
       "                        <td id=\"T_9c57c6b0_29d8_11eb_874f_e7f32333ac44row4_col0\" class=\"data row4 col0\" >0.102529</td>\n",
       "                        <td id=\"T_9c57c6b0_29d8_11eb_874f_e7f32333ac44row4_col1\" class=\"data row4 col1\" >0.077857</td>\n",
       "                        <td id=\"T_9c57c6b0_29d8_11eb_874f_e7f32333ac44row4_col2\" class=\"data row4 col2\" >-0.028372</td>\n",
       "                        <td id=\"T_9c57c6b0_29d8_11eb_874f_e7f32333ac44row4_col3\" class=\"data row4 col3\" >0.043425</td>\n",
       "                        <td id=\"T_9c57c6b0_29d8_11eb_874f_e7f32333ac44row4_col4\" class=\"data row4 col4\" >1.000000</td>\n",
       "                        <td id=\"T_9c57c6b0_29d8_11eb_874f_e7f32333ac44row4_col5\" class=\"data row4 col5\" >-0.097877</td>\n",
       "                        <td id=\"T_9c57c6b0_29d8_11eb_874f_e7f32333ac44row4_col6\" class=\"data row4 col6\" >0.030487</td>\n",
       "                        <td id=\"T_9c57c6b0_29d8_11eb_874f_e7f32333ac44row4_col7\" class=\"data row4 col7\" >-0.056765</td>\n",
       "                        <td id=\"T_9c57c6b0_29d8_11eb_874f_e7f32333ac44row4_col8\" class=\"data row4 col8\" >-0.072086</td>\n",
       "                        <td id=\"T_9c57c6b0_29d8_11eb_874f_e7f32333ac44row4_col9\" class=\"data row4 col9\" >-0.216844</td>\n",
       "            </tr>\n",
       "            <tr>\n",
       "                        <th id=\"T_9c57c6b0_29d8_11eb_874f_e7f32333ac44level0_row5\" class=\"row_heading level0 row5\" >serum_creatinine</th>\n",
       "                        <td id=\"T_9c57c6b0_29d8_11eb_874f_e7f32333ac44row5_col0\" class=\"data row5 col0\" >0.273773</td>\n",
       "                        <td id=\"T_9c57c6b0_29d8_11eb_874f_e7f32333ac44row5_col1\" class=\"data row5 col1\" >-0.050955</td>\n",
       "                        <td id=\"T_9c57c6b0_29d8_11eb_874f_e7f32333ac44row5_col2\" class=\"data row5 col2\" >-0.025667</td>\n",
       "                        <td id=\"T_9c57c6b0_29d8_11eb_874f_e7f32333ac44row5_col3\" class=\"data row5 col3\" >-0.229515</td>\n",
       "                        <td id=\"T_9c57c6b0_29d8_11eb_874f_e7f32333ac44row5_col4\" class=\"data row5 col4\" >-0.097877</td>\n",
       "                        <td id=\"T_9c57c6b0_29d8_11eb_874f_e7f32333ac44row5_col5\" class=\"data row5 col5\" >1.000000</td>\n",
       "                        <td id=\"T_9c57c6b0_29d8_11eb_874f_e7f32333ac44row5_col6\" class=\"data row5 col6\" >-0.362427</td>\n",
       "                        <td id=\"T_9c57c6b0_29d8_11eb_874f_e7f32333ac44row5_col7\" class=\"data row5 col7\" >0.008183</td>\n",
       "                        <td id=\"T_9c57c6b0_29d8_11eb_874f_e7f32333ac44row5_col8\" class=\"data row5 col8\" >-0.018767</td>\n",
       "                        <td id=\"T_9c57c6b0_29d8_11eb_874f_e7f32333ac44row5_col9\" class=\"data row5 col9\" >-0.147975</td>\n",
       "            </tr>\n",
       "            <tr>\n",
       "                        <th id=\"T_9c57c6b0_29d8_11eb_874f_e7f32333ac44level0_row6\" class=\"row_heading level0 row6\" >serum_sodium</th>\n",
       "                        <td id=\"T_9c57c6b0_29d8_11eb_874f_e7f32333ac44row6_col0\" class=\"data row6 col0\" >-0.102785</td>\n",
       "                        <td id=\"T_9c57c6b0_29d8_11eb_874f_e7f32333ac44row6_col1\" class=\"data row6 col1\" >0.083587</td>\n",
       "                        <td id=\"T_9c57c6b0_29d8_11eb_874f_e7f32333ac44row6_col2\" class=\"data row6 col2\" >-0.079295</td>\n",
       "                        <td id=\"T_9c57c6b0_29d8_11eb_874f_e7f32333ac44row6_col3\" class=\"data row6 col3\" >0.179198</td>\n",
       "                        <td id=\"T_9c57c6b0_29d8_11eb_874f_e7f32333ac44row6_col4\" class=\"data row6 col4\" >0.030487</td>\n",
       "                        <td id=\"T_9c57c6b0_29d8_11eb_874f_e7f32333ac44row6_col5\" class=\"data row6 col5\" >-0.362427</td>\n",
       "                        <td id=\"T_9c57c6b0_29d8_11eb_874f_e7f32333ac44row6_col6\" class=\"data row6 col6\" >1.000000</td>\n",
       "                        <td id=\"T_9c57c6b0_29d8_11eb_874f_e7f32333ac44row6_col7\" class=\"data row6 col7\" >-0.135763</td>\n",
       "                        <td id=\"T_9c57c6b0_29d8_11eb_874f_e7f32333ac44row6_col8\" class=\"data row6 col8\" >0.000347</td>\n",
       "                        <td id=\"T_9c57c6b0_29d8_11eb_874f_e7f32333ac44row6_col9\" class=\"data row6 col9\" >0.054707</td>\n",
       "            </tr>\n",
       "            <tr>\n",
       "                        <th id=\"T_9c57c6b0_29d8_11eb_874f_e7f32333ac44level0_row7\" class=\"row_heading level0 row7\" >sex</th>\n",
       "                        <td id=\"T_9c57c6b0_29d8_11eb_874f_e7f32333ac44row7_col0\" class=\"data row7 col0\" >-0.007825</td>\n",
       "                        <td id=\"T_9c57c6b0_29d8_11eb_874f_e7f32333ac44row7_col1\" class=\"data row7 col1\" >-0.152261</td>\n",
       "                        <td id=\"T_9c57c6b0_29d8_11eb_874f_e7f32333ac44row7_col2\" class=\"data row7 col2\" >-0.170709</td>\n",
       "                        <td id=\"T_9c57c6b0_29d8_11eb_874f_e7f32333ac44row7_col3\" class=\"data row7 col3\" >-0.117482</td>\n",
       "                        <td id=\"T_9c57c6b0_29d8_11eb_874f_e7f32333ac44row7_col4\" class=\"data row7 col4\" >-0.056765</td>\n",
       "                        <td id=\"T_9c57c6b0_29d8_11eb_874f_e7f32333ac44row7_col5\" class=\"data row7 col5\" >0.008183</td>\n",
       "                        <td id=\"T_9c57c6b0_29d8_11eb_874f_e7f32333ac44row7_col6\" class=\"data row7 col6\" >-0.135763</td>\n",
       "                        <td id=\"T_9c57c6b0_29d8_11eb_874f_e7f32333ac44row7_col7\" class=\"data row7 col7\" >1.000000</td>\n",
       "                        <td id=\"T_9c57c6b0_29d8_11eb_874f_e7f32333ac44row7_col8\" class=\"data row7 col8\" >0.436863</td>\n",
       "                        <td id=\"T_9c57c6b0_29d8_11eb_874f_e7f32333ac44row7_col9\" class=\"data row7 col9\" >0.004275</td>\n",
       "            </tr>\n",
       "            <tr>\n",
       "                        <th id=\"T_9c57c6b0_29d8_11eb_874f_e7f32333ac44level0_row8\" class=\"row_heading level0 row8\" >smoking</th>\n",
       "                        <td id=\"T_9c57c6b0_29d8_11eb_874f_e7f32333ac44row8_col0\" class=\"data row8 col0\" >-0.046499</td>\n",
       "                        <td id=\"T_9c57c6b0_29d8_11eb_874f_e7f32333ac44row8_col1\" class=\"data row8 col1\" >-0.180064</td>\n",
       "                        <td id=\"T_9c57c6b0_29d8_11eb_874f_e7f32333ac44row8_col2\" class=\"data row8 col2\" >-0.170885</td>\n",
       "                        <td id=\"T_9c57c6b0_29d8_11eb_874f_e7f32333ac44row8_col3\" class=\"data row8 col3\" >-0.070408</td>\n",
       "                        <td id=\"T_9c57c6b0_29d8_11eb_874f_e7f32333ac44row8_col4\" class=\"data row8 col4\" >-0.072086</td>\n",
       "                        <td id=\"T_9c57c6b0_29d8_11eb_874f_e7f32333ac44row8_col5\" class=\"data row8 col5\" >-0.018767</td>\n",
       "                        <td id=\"T_9c57c6b0_29d8_11eb_874f_e7f32333ac44row8_col6\" class=\"data row8 col6\" >0.000347</td>\n",
       "                        <td id=\"T_9c57c6b0_29d8_11eb_874f_e7f32333ac44row8_col7\" class=\"data row8 col7\" >0.436863</td>\n",
       "                        <td id=\"T_9c57c6b0_29d8_11eb_874f_e7f32333ac44row8_col8\" class=\"data row8 col8\" >1.000000</td>\n",
       "                        <td id=\"T_9c57c6b0_29d8_11eb_874f_e7f32333ac44row8_col9\" class=\"data row8 col9\" >0.057555</td>\n",
       "            </tr>\n",
       "            <tr>\n",
       "                        <th id=\"T_9c57c6b0_29d8_11eb_874f_e7f32333ac44level0_row9\" class=\"row_heading level0 row9\" >time</th>\n",
       "                        <td id=\"T_9c57c6b0_29d8_11eb_874f_e7f32333ac44row9_col0\" class=\"data row9 col0\" >-0.207589</td>\n",
       "                        <td id=\"T_9c57c6b0_29d8_11eb_874f_e7f32333ac44row9_col1\" class=\"data row9 col1\" >-0.126263</td>\n",
       "                        <td id=\"T_9c57c6b0_29d8_11eb_874f_e7f32333ac44row9_col2\" class=\"data row9 col2\" >0.037524</td>\n",
       "                        <td id=\"T_9c57c6b0_29d8_11eb_874f_e7f32333ac44row9_col3\" class=\"data row9 col3\" >0.078472</td>\n",
       "                        <td id=\"T_9c57c6b0_29d8_11eb_874f_e7f32333ac44row9_col4\" class=\"data row9 col4\" >-0.216844</td>\n",
       "                        <td id=\"T_9c57c6b0_29d8_11eb_874f_e7f32333ac44row9_col5\" class=\"data row9 col5\" >-0.147975</td>\n",
       "                        <td id=\"T_9c57c6b0_29d8_11eb_874f_e7f32333ac44row9_col6\" class=\"data row9 col6\" >0.054707</td>\n",
       "                        <td id=\"T_9c57c6b0_29d8_11eb_874f_e7f32333ac44row9_col7\" class=\"data row9 col7\" >0.004275</td>\n",
       "                        <td id=\"T_9c57c6b0_29d8_11eb_874f_e7f32333ac44row9_col8\" class=\"data row9 col8\" >0.057555</td>\n",
       "                        <td id=\"T_9c57c6b0_29d8_11eb_874f_e7f32333ac44row9_col9\" class=\"data row9 col9\" >1.000000</td>\n",
       "            </tr>\n",
       "    </tbody></table>"
      ],
      "text/plain": [
       "<pandas.io.formats.style.Styler at 0x7f37120756a0>"
      ]
     },
     "execution_count": 376,
     "metadata": {},
     "output_type": "execute_result"
    }
   ],
   "source": [
    "X_train.corr(method='spearman').style.background_gradient(cmap='coolwarm')"
   ]
  },
  {
   "cell_type": "code",
   "execution_count": 377,
   "metadata": {},
   "outputs": [],
   "source": [
    "X_train.drop('sex', axis=1, inplace=True)\n",
    "X_test.drop('sex', axis=1, inplace=True)"
   ]
  },
  {
   "cell_type": "code",
   "execution_count": 378,
   "metadata": {},
   "outputs": [
    {
     "name": "stdout",
     "output_type": "stream",
     "text": [
      "['age', 'anaemia', 'ejection_fraction', 'high_blood_pressure', 'serum_creatinine', 'serum_sodium', 'smoking', 'time']\n"
     ]
    }
   ],
   "source": [
    "selector = SelectKBest(f_classif, k=8) #ANOVA\n",
    "selector.fit(X_train, y_train)\n",
    "cols = X_train.columns[selector.get_support(indices=True)].tolist()\n",
    "X_train = X_train[cols]\n",
    "X_test = X_test[cols]\n",
    "print(cols)"
   ]
  },
  {
   "cell_type": "code",
   "execution_count": 379,
   "metadata": {},
   "outputs": [],
   "source": [
    "logit = sm.GLM(y_train, X_train, family=sm.families.Binomial())\n",
    "result = logit.fit()"
   ]
  },
  {
   "cell_type": "code",
   "execution_count": 380,
   "metadata": {},
   "outputs": [
    {
     "name": "stdout",
     "output_type": "stream",
     "text": [
      "                 Generalized Linear Model Regression Results                  \n",
      "==============================================================================\n",
      "Dep. Variable:            DEATH_EVENT   No. Observations:                  209\n",
      "Model:                            GLM   Df Residuals:                      201\n",
      "Model Family:                Binomial   Df Model:                            7\n",
      "Link Function:                  logit   Scale:                          1.0000\n",
      "Method:                          IRLS   Log-Likelihood:                -67.918\n",
      "Date:                Wed, 18 Nov 2020   Deviance:                       135.84\n",
      "Time:                        16:59:47   Pearson chi2:                     171.\n",
      "No. Iterations:                     6                                         \n",
      "Covariance Type:            nonrobust                                         \n",
      "=======================================================================================\n",
      "                          coef    std err          z      P>|z|      [0.025      0.975]\n",
      "---------------------------------------------------------------------------------------\n",
      "age                     0.0595      0.020      3.037      0.002       0.021       0.098\n",
      "anaemia                -0.3559      0.471     -0.755      0.450      -1.279       0.567\n",
      "ejection_fraction      -0.0751      0.021     -3.577      0.000      -0.116      -0.034\n",
      "high_blood_pressure    -0.1537      0.452     -0.340      0.734      -1.040       0.733\n",
      "serum_creatinine        0.9028      0.220      4.109      0.000       0.472       1.333\n",
      "serum_sodium           -0.0038      0.010     -0.364      0.716      -0.024       0.016\n",
      "smoking                 0.0136      0.503      0.027      0.978      -0.971       0.999\n",
      "time                   -0.0227      0.004     -5.717      0.000      -0.030      -0.015\n",
      "=======================================================================================\n"
     ]
    }
   ],
   "source": [
    "print(result.summary())"
   ]
  },
  {
   "cell_type": "code",
   "execution_count": 381,
   "metadata": {},
   "outputs": [],
   "source": [
    "X_test['score'] = result.predict(X_test)"
   ]
  },
  {
   "cell_type": "code",
   "execution_count": 382,
   "metadata": {
    "scrolled": true
   },
   "outputs": [
    {
     "name": "stdout",
     "output_type": "stream",
     "text": [
      "ROCAUC SCORE: 84 %\n"
     ]
    },
    {
     "data": {
      "image/png": "[encoded data removed]",
      "text/plain": [
       "<Figure size 432x288 with 1 Axes>"
      ]
     },
     "metadata": {
      "needs_background": "light"
     },
     "output_type": "display_data"
    }
   ],
   "source": [
    "fpr, tpr, thresholds = roc_curve(y_test, X_test['score'])\n",
    "roc_auc = auc(fpr, tpr)\n",
    "print(f'ROCAUC SCORE: {round(roc_auc*100)} %')\n",
    "\n",
    "plt.figure()\n",
    "plt.xlabel('False Positive Rate')\n",
    "plt.ylabel('True Positive Rate')\n",
    "plt.plot([0, 1], [0, 1], color='red', linestyle='--')\n",
    "plt.xlim([0.0, 1.0])\n",
    "plt.ylim([0.0, 1.01])\n",
    "plt.title('Classifier ROC')\n",
    "plt.plot(fpr, tpr, color='blue', lw=2, label='ROC score = %0.2f' % roc_auc)\n",
    "plt.legend(loc=\"lower right\")\n",
    "plt.show()"
   ]
  },
  {
   "cell_type": "code",
   "execution_count": 383,
   "metadata": {},
   "outputs": [],
   "source": [
    "optimal_idx = np.argmax(tpr - fpr)\n",
    "cutoff = thresholds[optimal_idx]\n",
    "X_test['bin_score'] = X_test['score'].apply(lambda x: 1 if x > cutoff else 0)"
   ]
  },
  {
   "cell_type": "code",
   "execution_count": 384,
   "metadata": {
    "scrolled": false
   },
   "outputs": [
    {
     "name": "stdout",
     "output_type": "stream",
     "text": [
      "ACCURACY: 80%\n"
     ]
    }
   ],
   "source": [
    "print(f\"ACCURACY: {round(accuracy_score(y_test, X_test['bin_score'])*100)}%\")"
   ]
  },
  {
   "cell_type": "code",
   "execution_count": 385,
   "metadata": {},
   "outputs": [
    {
     "data": {
      "text/plain": [
       "age                    0.059467\n",
       "anaemia               -0.355859\n",
       "ejection_fraction     -0.075061\n",
       "high_blood_pressure   -0.153693\n",
       "serum_creatinine       0.902759\n",
       "serum_sodium          -0.003751\n",
       "smoking                0.013558\n",
       "time                  -0.022650\n",
       "dtype: float64"
      ]
     },
     "execution_count": 385,
     "metadata": {},
     "output_type": "execute_result"
    }
   ],
   "source": [
    "result.params"
   ]
  },
  {
   "cell_type": "code",
   "execution_count": 386,
   "metadata": {},
   "outputs": [
    {
     "data": {
      "image/png": "[encoded data removed]",
      "text/plain": [
       "<Figure size 432x288 with 1 Axes>"
      ]
     },
     "metadata": {
      "needs_background": "light"
     },
     "output_type": "display_data"
    }
   ],
   "source": [
    "importance = result.params\n",
    "plt.bar([x for x in range(len(importance))], importance)\n",
    "plt.show()"
   ]
  },
  {
   "cell_type": "code",
   "execution_count": null,
   "metadata": {},
   "outputs": [],
   "source": []
  }
 ],
 "metadata": {
  "kernelspec": {
   "display_name": "Python 3",
   "language": "python",
   "name": "python3"
  },
  "language_info": {
   "codemirror_mode": {
    "name": "ipython",
    "version": 3
   },
   "file_extension": ".py",
   "mimetype": "text/x-python",
   "name": "python",
   "nbconvert_exporter": "python",
   "pygments_lexer": "ipython3",
   "version": "3.8.5"
  }
 },
 "nbformat": 4,
 "nbformat_minor": 4
}
